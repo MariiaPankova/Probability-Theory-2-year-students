{
 "cells": [
  {
   "cell_type": "code",
   "execution_count": null,
   "metadata": {},
   "outputs": [],
   "source": [
    "# Домашня робота №3\n",
    "Будемо використовувати *Збірник задач з теорії ймовірностей та математичної статистики: навч. посібник / В.В. Голомозий, М.В. Карташов, К.В. Ральченко. – К.: Видавничо-поліграфічний центр «Київський університет», 2015. – 366 с.*\n",
    "Електронну версію збірника можна знайти [тут](http://probability.univ.kiev.ua/userfiles/kmv/gkr-problems.pdf)."
   ]
  },
  {
   "cell_type": "code",
   "execution_count": null,
   "metadata": {},
   "outputs": [],
   "source": [
    "## 1 Задача 1.3.12\n",
    "Знайти ймовiрнiсть того, що серед трьох цифр, кожна з яких вибрана навмання, буде лише 1, 2, 3 рiзних.\n",
    "\n",
    "Обчисліть теоретичну (повним перебором) та еміричну (симулюванням $100000$ експериментів) імовірності."
   ]
  },
  {
   "cell_type": "code",
   "execution_count": 49,
   "metadata": {
    "collapsed": true
   },
   "outputs": [
    {
     "name": "stdout",
     "output_type": "stream",
     "text": [
      "0.72063 0.7200000000000001\n"
     ]
    },
    {
     "name": "stdout",
     "output_type": "stream",
     "text": [
      "0.27134 0.27\n"
     ]
    },
    {
     "name": "stdout",
     "output_type": "stream",
     "text": [
      "0.01059 0.01\n"
     ]
    }
   ],
   "source": [
    "import numpy as np\n",
    "from math import factorial\n",
    "\n",
    "\n",
    "def th_prob(n):\n",
    "    if n != 1:\n",
    "        return factorial(10)/(factorial(10-n))*1/10**3*factorial(3)/factorial(n)\n",
    "    else:\n",
    "        return factorial(10)/(factorial(10-n))*1/10**3\n",
    "\n",
    "\n",
    "def em_prob(n, ex = 100000):\n",
    "    kk = 0\n",
    "    for _ in range(ex):\n",
    "        count = 3\n",
    "        choi = list(np.random.choice(range(10), size=3))\n",
    "        for i in range(len(choi)):\n",
    "            if choi[i] == choi[i-1]:\n",
    "                count -= 1\n",
    "        if n == 1:\n",
    "            n -= 1\n",
    "        if count == n:\n",
    "            kk += 1\n",
    "    return kk/ex\n",
    "\n",
    "\n",
    "print(em_prob(3), th_prob(3))\n",
    "print(em_prob(2), th_prob(2))\n",
    "print(em_prob(1), th_prob(1))"
   ]
  },
  {
   "cell_type": "code",
   "execution_count": 38,
   "metadata": {},
   "outputs": [
    {
     "ename": "SyntaxError",
     "evalue": "invalid syntax (<ipython-input-38-235dbb456dfe>, line 2)",
     "traceback": [
      "\u001b[0;36m  File \u001b[0;32m\"<ipython-input-38-235dbb456dfe>\"\u001b[0;36m, line \u001b[0;32m2\u001b[0m\n\u001b[0;31m    З послiдовностi чисел $1, 2, . . . , n$ вибирають навмання $k$ рiзних чисел.\u001b[0m\n\u001b[0m                  ^\u001b[0m\n\u001b[0;31mSyntaxError\u001b[0m\u001b[0;31m:\u001b[0m invalid syntax\n"
     ],
     "output_type": "error"
    }
   ],
   "source": [
    "# 2 Задача 1.3.14\n",
    "З послiдовностi чисел $1, 2, . . . , n$ вибирають навмання $k$ рiзних чисел.\n",
    "Яка ймовiрнiсть того, що:\n",
    "1. кожне з вибраних чисел кратне даному числу $p$;\n",
    "2. кожне з вибраних чисел кратне хоча б одному з двох взаємно простих чисел $p$ i $q$;\n",
    "3. серед вибраних чисел є хоча б одне кратне $p$?\n",
    "\n",
    "Напишіть  відповідні функції для обрахунку теоретичної (повним перебором) та еміричної (симулюванням $100000$ експериментів) імовірностей в залежності від параметрів $n, k, p, q$.\n",
    "Виведіть результат для\n",
    "- $n = 25, k = 5, p = 3, q = 4$;\n",
    "- $n = 25, k = 10, p = 3, q = 4$."
   ]
  },
  {
   "cell_type": "code",
   "execution_count": 4,
   "metadata": {
    "collapsed": false
   },
   "outputs": [
    {
     "name": "stdout",
     "output_type": "stream",
     "text": [
      "n=25, k=5, p=3, q=4\n\n"
     ]
    },
    {
     "name": "stdout",
     "output_type": "stream",
     "text": [
      "1- empirical: 0.00136, theoretical: 0.001054018445322793\n2- empirical: 0.01754, theoretical: 0.014906832298136646\n3- empirical: 0.87949, theoretical: 0.8835309617918313\n\n\nn=25, k=10, p=3, q=4\n\n"
     ]
    },
    {
     "name": "stdout",
     "output_type": "stream",
     "text": [
      "1- empirical: 0.0, theoretical: 0\n2- empirical: 3e-05, theoretical: 2.0191142818683536e-05\n3- empirical: 0.99613, theoretical: 0.9940503432494279\n\n\n"
     ]
    }
   ],
   "source": [
    "import numpy as np\n",
    "from math import factorial\n",
    "N = 100000\n",
    "\n",
    "\n",
    "def all_p(lst, p):\n",
    "    for a in lst:\n",
    "        if a % p != 0:\n",
    "            return False\n",
    "    return True\n",
    "\n",
    "\n",
    "def one_p(lst, p):\n",
    "    for a in lst:\n",
    "        if a % p == 0:\n",
    "            return True\n",
    "    return False\n",
    "\n",
    "\n",
    "def pq(lst, p, q):\n",
    "    for a in lst:\n",
    "        if a % p != 0 and a % q != 0:\n",
    "            return False\n",
    "    return True\n",
    "\n",
    "\n",
    "def chose_empirical(n, k, p, q):\n",
    "    count_1 = 0\n",
    "    count_2 = 0\n",
    "    count_3 = 0\n",
    "    for i in range(N):\n",
    "        \n",
    "        lst = []\n",
    "        pool = set(range(1,n))\n",
    "        for j in range(k):\n",
    "            t = np.random.choice(list(pool))\n",
    "            lst.append(t)\n",
    "            pool.remove(lst[-1])\n",
    "        \n",
    "        if all_p(lst, p):\n",
    "            count_1 += 1\n",
    "        elif pq(lst, p, q):\n",
    "            count_2 += 1\n",
    "        elif one_p(lst, p):\n",
    "            count_3 += 1\n",
    "    return count_1/N, count_2/N, count_3/N\n",
    "\n",
    "def combinations(n, k):\n",
    "    return factorial(n)/(factorial(k)*factorial(n-k))\n",
    "\n",
    "\n",
    "def chose_theoretical(n, k, p, q):\n",
    "    try:\n",
    "        rez1 = combinations(n//p, k)/combinations(n, k)\n",
    "    except ValueError:\n",
    "        rez1 = 0\n",
    "    try:\n",
    "        rez2 = combinations(n//p+n//q-n//(p*q), k)/combinations(n, k)\n",
    "    except ValueError:\n",
    "        rez2 = 0\n",
    "    try:\n",
    "        rez3 = 1-combinations(n-n//p, k)/combinations(n, k)\n",
    "    except ValueError:\n",
    "        rez3 = 0 \n",
    "    return rez1, rez2, rez3\n",
    "\n",
    "\n",
    "for n, k, p, q in [(25, 5, 3, 4), (25, 10, 3, 4)]:\n",
    "    print(\"n={}, k={}, p={}, q={}\\n\".format(n, k, p, q))\n",
    "    emp = chose_empirical(n, k, p, q)\n",
    "    theo = chose_theoretical(n, k, p, q)\n",
    "    for i in range(3):\n",
    "        print(\"{}- empirical: {}, theoretical: {}\".format(i+1, emp[i], theo[i]))\n",
    "    print(\"\\n\")"
   ]
  },
  {
   "cell_type": "code",
   "execution_count": null,
   "metadata": {},
   "outputs": [],
   "source": [
    "# 3 Задача 1.4.6\n",
    "В коморi знаходяться $n$ пар черевикiв.\n",
    "З них випадковим чином вибираються $2k$ черевикiв.\n",
    "Яка ймовiрнiсть того, що серед вибраних черевикiв:\n",
    "1. вiдсутнi парнi;\n",
    "2. є рiвно одна комплектна пара;\n",
    "3. є двi комплектнi пари?\n",
    "\n",
    "Напишіть  відповідні функції для обрахунку теоретичної (повним перебором) та еміричної (симулюванням $100000$ експериментів) імовірностей в залежності від параметрів $n, k$.\n",
    "Виведіть результат для\n",
    "- $n = 8, k = 4$;\n",
    "- $n = 13, k = 5$."
   ]
  },
  {
   "cell_type": "code",
   "execution_count": 5,
   "metadata": {
    "collapsed": true
   },
   "outputs": [
    {
     "name": "stdout",
     "output_type": "stream",
     "text": [
      "n=25, k=5, p=3, q=4\n\n"
     ]
    },
    {
     "name": "stdout",
     "output_type": "stream",
     "text": [
      "1- empirical: 0.00146, theoretical: 0.001054018445322793\n2- empirical: 0.01706, theoretical: 0.014906832298136646\n3- empirical: 0.88012, theoretical: 0.8835309617918313\n\n\nn=25, k=10, p=3, q=4\n\n"
     ]
    },
    {
     "name": "stdout",
     "output_type": "stream",
     "text": [
      "1- empirical: 0.0, theoretical: 0\n2- empirical: 3e-05, theoretical: 2.0191142818683536e-05\n3- empirical: 0.99582, theoretical: 0.9940503432494279\n\n\n"
     ]
    }
   ],
   "source": [
    "# Місце для Вашого коду\n",
    "def combinations(n, k):\n",
    "    return factorial(n)/(factorial(k)*factorial(n-k))\n",
    "\n",
    "\n",
    "def chose_theoretical(n, k, p, q):\n",
    "    try:\n",
    "        rez1 = combinations(n//p, k)/combinations(n, k)\n",
    "    except ValueError:\n",
    "        rez1 = 0\n",
    "    try:\n",
    "        rez2 = combinations(n//p+n//q-n//(p*q), k)/combinations(n, k)\n",
    "    except ValueError:\n",
    "        rez2 = 0\n",
    "    try:\n",
    "        rez3 = 1-combinations(n-n//p, k)/combinations(n, k)\n",
    "    except ValueError:\n",
    "        rez3 = 0 \n",
    "    return rez1, rez2, rez3\n",
    "\n",
    "\n",
    "for n, k, p, q in [(25, 5, 3, 4), (25, 10, 3, 4)]:\n",
    "    print(\"n={}, k={}, p={}, q={}\\n\".format(n, k, p, q))\n",
    "    emp = chose_empirical(n, k, p, q)\n",
    "    theo = chose_theoretical(n, k, p, q)\n",
    "    for i in range(3):\n",
    "        print(\"{}- empirical: {}, theoretical: {}\".format(i+1, emp[i], theo[i]))\n",
    "    print(\"\\n\")\n"
   ]
  },
  {
   "cell_type": "code",
   "execution_count": null,
   "metadata": {},
   "outputs": [],
   "source": [
    "# 4 Задача 1.2.15\n",
    "Нехай $\\Omega = {1, 2, \\ldots, 2n}$.\n",
    "Всiм числам приписанi ймовiрностi, пропорцiйнi логарифмам цих чисел.\n",
    "Знайти цi ймовiрностi.\n",
    "Знайти ймовiрнiсть того, що в результатi експерименту з’явиться:\n",
    "1. парне число;\n",
    "2. непарне число.\n",
    "\n",
    "Напишіть функцію для обрахунку еміричної (симулюванням $100000$ експериментів) імовірності в залежності від параметра $n$.\n",
    "Виведіть результат для\n",
    "- $n = 10$;\n",
    "- $n = 25$."
   ]
  },
  {
   "cell_type": "code",
   "execution_count": 8,
   "metadata": {
    "collapsed": true
   },
   "outputs": [
    {
     "name": "stdout",
     "output_type": "stream",
     "text": [
      "n=10\n probabilities: [0.0, 0.01637267243297415, 0.02595007184285505, 0.0327453448659483, 0.038016168110510506, 0.042322744275829195, 0.04596390254194683, 0.04911801729892245, 0.0519001436857101, 0.05438884054348467, 0.05664014069622203, 0.05869541670880335, 0.0605860873630913, 0.06233657497492098, 0.06396623995336556, 0.0654906897318966, 0.06692269018174564, 0.06827281611868424, 0.06954992569663022, 0.0707615129764588]\n\n pair: 0.51922, odd: 0.48078\n\n"
     ]
    },
    {
     "name": "stdout",
     "output_type": "stream",
     "text": [
      "n=25\n probabilities: [0.0, 0.004668356716228672, 0.007399170335212202, 0.009336713432457344, 0.010839588616367463, 0.012067527051440874, 0.013105734205225237, 0.014005070148686016, 0.014798340670424404, 0.015507945332596137, 0.016149860831199254, 0.016735883767669546, 0.0172749726111833, 0.01777409092145391, 0.018238758951579667, 0.01867342686491469, 0.019081734607286155, 0.019466697386653072, 0.019830840937436926, 0.02017630204882481, 0.02050490454043744, 0.020818217547427926, 0.021117600838835265, 0.021404240483898218, 0.021679177232734926, 0.021943329327411977, 0.022197511005636605, 0.02244244763768258, 0.02267878820591505, 0.02290711566780834, 0.023127955619109877, 0.02334178358114336, 0.023549031166411456, 0.023750091323514827, 0.023945322821592698, 0.024135054102881748, 0.024319586607313967, 0.024499197653665598, 0.024674142946395503, 0.02484465876505348, 0.02501096388330322, 0.02517326125666611, 0.02533173951164847, 0.025486574263656598, 0.025637929286791865, 0.025785957555063937, 0.025930802171618205, 0.02607259720012689, 0.026211468410450474, 0.026347533948963598]\n\n pair: 0.50629, odd: 0.49371\n\n"
     ]
    }
   ],
   "source": [
    "# Місце для Вашого коду\n",
    "from math import log\n",
    "N = 100000\n",
    "\n",
    "\n",
    "def empirical_log_chose(n):\n",
    "    count_1 = 0\n",
    "    count_2 = 0\n",
    "    lst = list(range(1, 2*n+1))\n",
    "    t = list(map(log, lst))\n",
    "    p_lst = list(map(lambda x: x/sum(t), t))\n",
    "    \n",
    "    for i in range(N):\n",
    "        choice = np.random.choice(lst, size=1, p=p_lst)\n",
    "        if choice % 2 == 0:\n",
    "            count_1 += 1\n",
    "        elif choice % 2 != 0:\n",
    "            count_2 += 1\n",
    "            \n",
    "    return p_lst, count_1/N, count_2/N\n",
    "\n",
    "\n",
    "for n in [10, 25]:\n",
    "    print(\"n={}\\n probabilities: {}\\n\\n pair: {}, odd: {}\\n\".format(n, *empirical_log_chose(n)))\n"
   ]
  },
  {
   "cell_type": "code",
   "execution_count": null,
   "metadata": {},
   "outputs": [],
   "source": []
  }
 ],
 "metadata": {
  "kernelspec": {
   "display_name": "Python 3",
   "language": "python",
   "name": "python3"
  },
  "language_info": {
   "codemirror_mode": {
    "name": "ipython",
    "version": 3
   },
   "file_extension": ".py",
   "mimetype": "text/x-python",
   "name": "python",
   "nbconvert_exporter": "python",
   "pygments_lexer": "ipython3",
   "version": "3.6.1"
  }
 },
 "nbformat": 4,
 "nbformat_minor": 0
}

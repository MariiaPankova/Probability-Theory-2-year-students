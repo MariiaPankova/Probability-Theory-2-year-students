{
 "cells": [
  {
   "cell_type": "code",
   "execution_count": null,
   "metadata": {},
   "outputs": [],
   "source": [
    ""
   ]
  },
  {
   "cell_type": "code",
   "execution_count": null,
   "metadata": {},
   "outputs": [],
   "source": [
    "## 1 Пароль\n",
    "Напишіть програму (функцію) для генерування випадкового пароля з такими обмеженнями:\n",
    "- пароль складається з рівно $10$ символів\n",
    "- пароль містить хоча б одну маленьку латинську літеру [a-z]\n",
    "- пароль містить хоча б одну велику латинську літеру [A-Z]\n",
    "- пароль містить хоча б одну цифру [0-9]\n",
    "- пароль містить хоча б один спеціальний символ [~!@#$%^&*()-_+=\\/{}[].,?<>:;]"
   ]
  },
  {
   "cell_type": "code",
   "execution_count": 9,
   "metadata": {
    "collapsed": true
   },
   "outputs": [
    {
     "name": "stdout",
     "output_type": "stream",
     "text": [
      "1v.Y!adv^S\n"
     ]
    }
   ],
   "source": [
    "import numpy as np\n",
    "def gener(n):\n",
    "    q1 = '~ ! @ # $ % ^ & * ( ) - _+ = \\ / { } [ ] . , ? < > : ; '.strip().split()\n",
    "    q2 = '0 1 2 3 4 5 6 7 8 9'.strip().split()\n",
    "    q3 = 'a b c d e f g h i j k l m n o p q r s t u v w x y z'.strip().split()\n",
    "    q4 = 'A B C D E F G H I J K L M N O P Q R S T U V W X Y Z'.strip().split()\n",
    "    Q = (q1 + q2 + q3 + q4)\n",
    "    password = [np.random.choice(q1)]+[np.random.choice(q2)]+ [np.random.choice(q3)]+ [np.random.choice(q4)]\n",
    "    np.random.shuffle(password)\n",
    "    for i in range(n-4):\n",
    "        password += [np.random.choice(Q)]\n",
    "    print(''.join(password))\n",
    "    \n",
    "gener(10)"
   ]
  },
  {
   "cell_type": "code",
   "execution_count": 5,
   "metadata": {},
   "outputs": [
    {
     "ename": "SyntaxError",
     "evalue": "invalid syntax (<ipython-input-5-3a772e886604>, line 2)",
     "traceback": [
      "\u001b[0;36m  File \u001b[0;32m\"<ipython-input-5-3a772e886604>\"\u001b[0;36m, line \u001b[0;32m2\u001b[0m\n\u001b[0;31m    Реалізуйте функцію для обчислення емпіричної та теоретичної імовірностей випадіння $k$ гербів (HEADS) підряд у серії з $n$ підкидань чесної монетки. Підрахуйте відповідні ймовірності для таких параметрів:\u001b[0m\n\u001b[0m                     ^\u001b[0m\n\u001b[0;31mSyntaxError\u001b[0m\u001b[0;31m:\u001b[0m invalid syntax\n"
     ],
     "output_type": "error"
    }
   ],
   "source": [
    "## 2 Герби в ряд\n",
    "Реалізуйте функцію для обчислення емпіричної та теоретичної імовірностей випадіння $k$ гербів (HEADS) підряд у серії з $n$ підкидань чесної монетки. Підрахуйте відповідні ймовірності для таких параметрів:\n",
    "- $k = 2, n = 10, 50, 100, 500, 1000, 5000, 10000$\n",
    "- $k = 3, n = 10, 50, 100, 500, 1000, 5000, 10000$\n",
    "\n",
    "**Зауваження.** Нехай $k = 2, n = 10$ та маємо таку послідовність результатів підкидання монети: $\\{ H, T, H, H, H, H, T, T, H, T \\}$. Тоді матимемо $3$ випадки випадіння двох гербів підряд та емпіричну ймовірність такої події $1/3$."
   ]
  },
  {
   "cell_type": "code",
   "execution_count": 8,
   "metadata": {
    "collapsed": true
   },
   "outputs": [
    {
     "name": "stdout",
     "output_type": "stream",
     "text": [
      "------\n0.5 0.25\n------\n1.0 0.125\n------\n0.07692307692307693 0.25\n------\n0.125 0.125\n------\n0.038461538461538464 0.25\n------\n0.125 0.125\n------\n0.007692307692307693 0.25\n------\n0.01694915254237288 0.125\n------\n0.0037735849056603774 0.25\n------\n0.006802721088435374 0.125\n------\n0.0007892659826361484 0.25\n------\n0.001524390243902439 0.125\n------\n0.00041511000415110004 0.25\n------\n0.0008496176720475786 0.125\n"
     ]
    }
   ],
   "source": [
    "import numpy as np\n",
    "\n",
    "\n",
    "def theoretical_prob(k):\n",
    "    return 1/2**k    \n",
    "\n",
    "\n",
    "def experimental_prob(n,k):\n",
    "    tosses = list(np.random.choice(['T', 'H'], size=n))\n",
    "    count = 0\n",
    "    for i in range(len(tosses)):\n",
    "        if tosses[i] == 'H':\n",
    "            part = tosses[i:i+k]\n",
    "            count += 1\n",
    "            for p in part:\n",
    "                if p == 'T':\n",
    "                    count -= 1\n",
    "                    break\n",
    "    if count !=0:\n",
    "        return 1/count\n",
    "    else:\n",
    "        return 0\n",
    "    \n",
    "    \n",
    "for i in [10, 50, 100, 500, 1000, 5000, 10000]:\n",
    "    print(\"------\")\n",
    "    print(experimental_prob(i, 2), theoretical_prob(2))\n",
    "    print('------')\n",
    "    print(experimental_prob(i, 3), theoretical_prob(3))"
   ]
  },
  {
   "cell_type": "code",
   "execution_count": null,
   "metadata": {},
   "outputs": [],
   "source": [
    "## 3 Найбільше число\n",
    "Реалізуйте функцію підрахунку точної (теоретичної) імовірності того, що максимальне число після $n$ кидків звичайного грального кубика дорівнює $x\\_max$, для таких параметрів:\n",
    "- $n = 3, x\\_max = 6$\n",
    "- $n = 2, x\\_max = 3$\n",
    "- $n = 3, x\\_max = 5$\n",
    "\n",
    "Тобто, якщо $X_i, i = 1, \\ldots, n$, - число на $i$-му кидку кубика, а $X = \\max\\limits_{1 \\leq i \\leq n} X_i$, то потрібно знайти ймовірність $\\textbf{P} \\left( X = x\\_max \\right)$.\n",
    "\n",
    "Підрахуйте також емпіричні ймовірності відповідних подій у випадку $10000$ симуляцій.\n",
    "\n",
    "**Зауваження.** Якщо введені параметри не мають сенсу, то повертати $0$.\n",
    "Тобто, якщо вводиться $x\\_max < 1$ або $x\\_max > 6$."
   ]
  },
  {
   "cell_type": "code",
   "execution_count": 3,
   "metadata": {
    "collapsed": false
   },
   "outputs": [
    {
     "name": "stdout",
     "output_type": "stream",
     "text": [
      "[4, 3, 1]\n0.4212962962962963 0.4202\n"
     ]
    },
    {
     "name": "stdout",
     "output_type": "stream",
     "text": [
      "[5, 5]\n0.1388888888888889 0.1378\n"
     ]
    },
    {
     "name": "stdout",
     "output_type": "stream",
     "text": [
      "[2, 2, 1]\n0.2824074074074074 0.277\n"
     ]
    }
   ],
   "source": [
    "import numpy as np\n",
    "def theoretical_cube(n, x_max):\n",
    "    if x_max >= 1 and x_max <= 6:\n",
    "        return (x_max**n - (x_max-1)**n)/6**n\n",
    "    else:\n",
    "        return 0\n",
    "\n",
    "def experimental_cube(n, x_max, probs=10000):\n",
    "    if x_max >= 1  and x_max <= 6:\n",
    "        count = 0\n",
    "        for i in range(probs):\n",
    "            toss = list(np.random.choice(range(1, 7), size=n))\n",
    "            if max(toss) == x_max:\n",
    "                count += 1\n",
    "        return count/probs\n",
    "    else:\n",
    "        return 0\n",
    "\n",
    "\n",
    "print(theoretical_cube(3, 6), experimental_cube(3, 6))\n",
    "print(theoretical_cube(2, 3), experimental_cube(2, 3))\n",
    "print(theoretical_cube(3, 5), experimental_cube(3, 5))\n"
   ]
  },
  {
   "cell_type": "code",
   "execution_count": null,
   "metadata": {},
   "outputs": [],
   "source": [
    "## 4 Сума чисел\n",
    "Реалізуйте функцію підрахунку точної (теоретичної) імовірності того, що сума чисел після $n$ кидків звичайного грального кубика дорівнює $s$, для таких параметрів:\n",
    "- $n = 3, s = 13$\n",
    "- $n = 2, s = 5$\n",
    "- $n = 3, s = 7$\n",
    "\n",
    "Тобто, якщо $X_i, i = 1, \\ldots, n$, - число на $i$-му кидку кубика, а $X = \\sum\\limits_{i = 1}^{n} X_i$, то потрібно знайти ймовірність $\\textbf{P} \\left( X = s \\right)$.\n",
    "\n",
    "Підрахуйте також емпіричні ймовірності відповідних подій у випадку $10000$ симуляцій.\n",
    "\n",
    "**Зауваження.** Якщо введені параметри не мають сенсу, то повертати $0$.\n",
    "Наприклад, якщо при $n = 3$ вводиться $s < 3$ або $s > 18$."
   ]
  },
  {
   "cell_type": "code",
   "execution_count": 3,
   "metadata": {
    "collapsed": false
   },
   "outputs": [
    {
     "name": "stdout",
     "output_type": "stream",
     "text": [
      "0.0997 0.09722222222222222\n"
     ]
    }
   ],
   "source": [
    "import numpy as np\n",
    "from itertools import product\n",
    "\n",
    "def experimental_sum_cube(n, s, probs=10000):\n",
    "    if s >= n  and s <= n * 6:\n",
    "        count = 0\n",
    "        for i in range(probs):\n",
    "            toss = list(np.random.choice(range(1, 7), size=n))\n",
    "            if sum(toss) == s:\n",
    "                count += 1\n",
    "        return count/probs\n",
    "    else:\n",
    "        return 0\n",
    "    \n",
    "    \n",
    "def theoretical_sum_cube(n, s):\n",
    "    assert n < s < n*6, \"wrong input\"\n",
    "    count = 0\n",
    "    space = range(1, 7)\n",
    "    for test in product(space, repeat = n):\n",
    "        if sum(test) == s:\n",
    "            count += 1\n",
    "    return count / 6 ** n\n",
    "\n",
    "\n",
    "print(experimental_sum_cube(3, 13), theoretical_sum_cube(3, 13))\n",
    "print(experimental_sum_cube(2, 5), theoretical_sum_cube(2, 5))\n",
    "print(experimental_sum_cube(3, 7), theoretical_sum_cube(3, 7))"
   ]
  },
  {
   "cell_type": "code",
   "execution_count": null,
   "metadata": {},
   "outputs": [],
   "source": []
  }
 ],
 "metadata": {
  "kernelspec": {
   "display_name": "Python 3",
   "language": "python",
   "name": "python3"
  },
  "language_info": {
   "codemirror_mode": {
    "name": "ipython",
    "version": 3
   },
   "file_extension": ".py",
   "mimetype": "text/x-python",
   "name": "python",
   "nbconvert_exporter": "python",
   "pygments_lexer": "ipython3",
   "version": "3.6.1"
  }
 },
 "nbformat": 4,
 "nbformat_minor": 0
}

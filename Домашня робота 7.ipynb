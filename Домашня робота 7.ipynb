{
 "cells": [
  {
   "cell_type": "markdown",
   "metadata": {},
   "source": [
    "# Домашня робота №7"
   ]
  },
  {
   "cell_type": "markdown",
   "metadata": {},
   "source": [
    "# Перетворення випадкових величин"
   ]
  },
  {
   "cell_type": "code",
   "execution_count": 4,
   "metadata": {},
   "outputs": [],
   "source": [
    "import numpy as np\n",
    "import matplotlib.pyplot as plt"
   ]
  },
  {
   "cell_type": "markdown",
   "metadata": {},
   "source": [
    "## 1 Квантильне перетворення"
   ]
  },
  {
   "cell_type": "markdown",
   "metadata": {},
   "source": [
    "### 1.1 Задана щільність"
   ]
  },
  {
   "cell_type": "markdown",
   "metadata": {},
   "source": [
    "Нехай випадкова величина $\\xi$ має щільність\n",
    "$f(x) = a \\sin(x) I_{[0, \\pi]}(x),$\n",
    "де $I_{[c, d]}(x)$ - індикатор на відрізку $[c, d]$.\n",
    "\n",
    "Знайдіть значення параметра $a$.\n",
    "\n",
    "Згенеруйте $n = 100000$ значень випадкової величини $\\xi$ за допомогою квантильного перетворення.\n",
    "\n",
    "Намалюйте нормовану гістограму отриманих $n = 100000$ значень випадкової величини $\\xi$ разом з її функцією щільності."
   ]
  },
  {
   "cell_type": "code",
   "execution_count": null,
   "metadata": {},
   "outputs": [],
   "source": [
    "# Місце для Вашого коду\n",
    "from scipy.stats import uniform\n",
    "\n",
    "a = 1/2\n",
    "def inv_func(y):\n",
    "    return np.arcsin(y / a) + np.pi / 2\n",
    "\n",
    "rv = uniform(-np.pi, 2*np.pi)\n",
    "x = np.arange(0, np.pi, 0.1)\n",
    "\n",
    "plt.hist(inv_func(rv.rvs(100000)), density=True, bins=40, rwidth=0.9)\n",
    "plt.plot(x, a * np.sin(x), 'r')\n",
    "plt.show()\n"
   ]
  },
  {
   "cell_type": "markdown",
   "metadata": {},
   "source": [
    "### 1.2 Нормальний розподіл"
   ]
  },
  {
   "cell_type": "markdown",
   "metadata": {},
   "source": [
    "Нехай випадкова величина $\\xi \\sim N(0, 1)$.\n",
    "\n",
    "Згенеруйте $n = 100000$ значень випадкової величини $\\xi$ за допомогою квантильного перетворення.\n",
    "\n",
    "Намалюйте нормовану гістограму отриманих $n = 100000$ значень випадкової величини $\\xi$ разом з її функцією щільності."
   ]
  },
  {
   "cell_type": "code",
   "execution_count": null,
   "metadata": {
    "scrolled": true
   },
   "outputs": [],
   "source": [
    "# Місце для Вашого коду\n",
    "from scipy.stats import norm\n",
    "from random import choice\n",
    "\n",
    "def inv_norm(y):\n",
    "    t = np.sqrt(np.log(1/(2*np.pi*y**2)))\n",
    "    return list(t)+list(-t)\n",
    "\n",
    "\n",
    "rv = uniform(0, 1) \n",
    "random = inv_norm(rv.rvs(100000))\n",
    "x = np.arange(-2, 2, 0.1)\n",
    "plt.hist(random, density=True, bins=50, rwidth=0.9)\n",
    "plt.plot(x, norm.pdf(x))\n",
    "plt.show()\n"
   ]
  },
  {
   "cell_type": "markdown",
   "metadata": {},
   "source": [
    "## 2 Відсутність пам'яті"
   ]
  },
  {
   "cell_type": "markdown",
   "metadata": {},
   "source": [
    "Розглянемо випадкову величину $\\xi$ з геометричного розподілу з параметром $p = 0.5$.\n",
    "Тобто $\\xi \\sim Geom(0.5)$.\n",
    "\n",
    "1. Згенеруйте $n = 10000$ значень випадкової величини $\\xi$;\n",
    "2. Реалізуйте 2 сабплоти в одному рядку;\n",
    "3. На першому сабплоті намалюйте:\n",
    "   - нормовану гістограму згенерованих $n = 10000$ значень випадкової величини $\\xi$;\n",
    "   - функцію ймовірностей випадкової величини $\\xi$;\n",
    "4. Отримайте $n = 10000$ значень випадкової величини $\\eta = (\\xi - 1) I_{(\\xi - 1) > 0}$;\n",
    "5. На другому сабплоті намалюйте:\n",
    "   - нормовану гістограму отриманих значень випадкової величини $\\eta$;\n",
    "   - функцію ймовірностей випадкової величини $\\xi$.\n",
    "\n",
    "**Зауваження 1.** Графік функції ймовірнстей краще малювати для $10$ значень.\n",
    "\n",
    "**Зауваження 2.** У гістограмах проміжок значень слід розбивати на одиничні інтервали."
   ]
  },
  {
   "cell_type": "code",
   "execution_count": null,
   "metadata": {},
   "outputs": [],
   "source": [
    "# Місце для Вашого коду\n",
    "from scipy.stats import geom\n",
    "ksi = geom(0.5)\n",
    "random = ksi.rvs(100000)\n",
    "x = np.arange(0, 20, 1)\n",
    "\n",
    "def func(x):\n",
    "    res = []\n",
    "    for el in x:\n",
    "        if el-1 <0:\n",
    "            res+=[0]\n",
    "        else:\n",
    "            res+=[el-1]\n",
    "    return res\n",
    "\n",
    "\n",
    "\n",
    "fig, axs = plt.subplots(1,2, figsize=(10,10))\n",
    "axs[0].hist(random,density=True, bins=50,rwidth=0.9)\n",
    "axs[0].plot(x, ksi.pmf(x),'r')\n",
    "\n",
    "eta_random = func(random)\n",
    "axs[1].hist(eta_random,density=True, bins=50,rwidth=0.9)\n",
    "axs[1].plot(x, ksi.pmf(x), 'r')"
   ]
  },
  {
   "cell_type": "markdown",
   "metadata": {},
   "source": [
    "## 3 Задача 1.11.3"
   ]
  },
  {
   "cell_type": "markdown",
   "metadata": {},
   "source": [
    "Розглянемо випадкову величину $\\xi$ зі стандартного експоненційного розподілу.\n",
    "Тобто $\\xi \\sim Exp(1)$."
   ]
  },
  {
   "cell_type": "markdown",
   "metadata": {},
   "source": [
    "### 3.1 Експонента"
   ]
  },
  {
   "cell_type": "markdown",
   "metadata": {},
   "source": [
    "1. Згенеруйте $n = 10000$ значень випадкової величини $\\xi$;\n",
    "2. Реалізуйте 2 сабплоти в одному рядку;\n",
    "3. На першому сабплоті намалюйте:\n",
    "   - нормовану гістограму згенерованих $n = 10000$ значень випадкової величини $\\xi$;\n",
    "   - функцію щільності випадкової величини $\\xi$;\n",
    "4. Отримайте $n = 10000$ значень випадкової величини $\\eta = \\exp\\{-\\xi\\}$ (застосуйте функцію модуль до згенерованих $n = 10000$ значень випадкової величини $\\xi$);\n",
    "5. На другому сабплоті намалюйте:\n",
    "   - нормовану гістограму отриманих $n = 10000$ значень випадкової величини $\\eta$;\n",
    "   - функцію щільності випадкової величини $\\xi$;\n",
    "   - функцію щільності випадкової величини $\\eta$."
   ]
  },
  {
   "cell_type": "code",
   "execution_count": null,
   "metadata": {},
   "outputs": [],
   "source": [
    "# Місце для Вашого коду\n",
    "from scipy.stats import expon\n",
    "\n",
    "ksi = expon()\n",
    "\n",
    "random = ksi.rvs(100000)\n",
    "x = np.arange(0, 8, 0.1)\n",
    "\n",
    "\n",
    "fig, axs = plt.subplots(1,2, figsize=(10,10))\n",
    "axs[0].hist(random,density=True, bins=50,rwidth=0.9)\n",
    "axs[0].plot(x, ksi.pdf(x),'r')\n",
    "\n",
    "eta = uniform(0,1)\n",
    "axs[1].hist(eta.rvs(100000),density=True, bins=50,rwidth=0.9)\n",
    "axs[1].plot(x, ksi.pdf(x), 'y')\n",
    "axs[1].plot(x, eta.pdf(x), 'r')\n",
    "\n",
    "plt.show()"
   ]
  },
  {
   "cell_type": "markdown",
   "metadata": {},
   "source": [
    "### 3.2 Квадрат"
   ]
  },
  {
   "cell_type": "markdown",
   "metadata": {},
   "source": [
    "1. Згенеруйте $n = 10000$ значень випадкової величини $\\xi$;\n",
    "2. Реалізуйте 2 сабплоти в одному рядку;\n",
    "3. На першому сабплоті намалюйте:\n",
    "   - нормовану гістограму згенерованих $n = 10000$ значень випадкової величини $\\xi$;\n",
    "   - функцію щільності випадкової величини $\\xi$;\n",
    "4. Отримайте $n = 10000$ значень випадкової величини $\\eta = \\xi^2$ (застосуйте функцію модуль до згенерованих $n = 10000$ значень випадкової величини $\\xi$);\n",
    "5. На другому сабплоті намалюйте:\n",
    "   - нормовану гістограму отриманих $n = 10000$ значень випадкової величини $\\eta$;\n",
    "   - функцію щільності випадкової величини $\\xi$;\n",
    "   - функцію щільності випадкової величини $\\eta$."
   ]
  },
  {
   "cell_type": "code",
   "execution_count": null,
   "metadata": {
    "scrolled": false
   },
   "outputs": [],
   "source": [
    "# Місце для Вашого коду\n",
    "ksi = expon()\n",
    "x = np.arange(-1, 8, 0.1)\n",
    "fig, axs = plt.subplots(1,2, figsize=(10,10))\n",
    "axs[0].hist(ksi.rvs(100000),density=True, bins=200,rwidth=0.9)\n",
    "axs[0].plot(x, ksi.pdf(x),'r')\n",
    "\n",
    "eta_rvs = ksi.rvs(100000)**2\n",
    "eta = lambda x: np.exp(-np.sqrt(x))/ (2*x)\n",
    "\n",
    "axs[1].set_xlim([0,12])\n",
    "axs[1].hist(eta_rvs,density=True, bins=600,rwidth=0.9)\n",
    "axs[1].plot(x, ksi.pdf(x), 'r')\n",
    "axs[1].plot(x, eta(x), 'y')\n",
    "\n",
    "plt.show()\n"
   ]
  },
  {
   "cell_type": "markdown",
   "metadata": {},
   "source": [
    "## 4 Задача 1.11.5"
   ]
  },
  {
   "cell_type": "markdown",
   "metadata": {},
   "source": [
    "Розглянемо випадкову величину $\\xi$ зі стандартного рівномірного розподілу.\n",
    "Тобто $\\xi \\sim Unif(0, 1)$."
   ]
  },
  {
   "cell_type": "markdown",
   "metadata": {},
   "source": [
    "### 4.1 Лінійне перетворення"
   ]
  },
  {
   "cell_type": "markdown",
   "metadata": {},
   "source": [
    "1. Згенеруйте $n = 10000$ значень випадкової величини $\\xi$;\n",
    "2. Реалізуйте 2 сабплоти в одному рядку;\n",
    "3. На першому сабплоті намалюйте:\n",
    "   - нормовану гістограму згенерованих $n = 10000$ значень випадкової величини $\\xi$;\n",
    "   - функцію щільності випадкової величини $\\xi$;\n",
    "4. Отримайте $n = 10000$ значень випадкової величини $\\eta = 3 \\xi - 2$ (застосуйте функцію модуль до згенерованих $n = 10000$ значень випадкової величини $\\xi$);\n",
    "5. На другому сабплоті намалюйте:\n",
    "   - нормовану гістограму отриманих $n = 10000$ значень випадкової величини $\\eta$;\n",
    "   - функцію щільності випадкової величини $\\xi$;\n",
    "   - функцію щільності випадкової величини $\\eta$."
   ]
  },
  {
   "cell_type": "code",
   "execution_count": null,
   "metadata": {},
   "outputs": [],
   "source": [
    "# Місце для Вашого коду\n",
    "ksi = uniform(0,1)\n",
    "x = np.arange(0, 1, 0.01)\n",
    "\n",
    "fig, axs = plt.subplots(1,2, figsize=(10,10))\n",
    "axs[0].hist(ksi.rvs(100000),density=True, bins=200,rwidth=0.9)\n",
    "axs[0].plot(x, ksi.pdf(x),'r')\n",
    "\n",
    "eta_rvs = ksi.rvs(100000)*3 - 2\n",
    "eta = lambda x: 1/3\n",
    "\n",
    "axs[1].set_xlim([0,1])\n",
    "axs[1].hist(eta_rvs,density=True, bins=200,rwidth=0.9)\n",
    "axs[1].plot(x, ksi.pdf(x), 'r')\n",
    "axs[1].plot(x, list(map(eta,x)), 'y')\n",
    "\n",
    "plt.show()\n"
   ]
  },
  {
   "cell_type": "markdown",
   "metadata": {},
   "source": [
    "### 4.2 Модуль від лінійного перетворення"
   ]
  },
  {
   "cell_type": "markdown",
   "metadata": {},
   "source": [
    "1. Згенеруйте $n = 10000$ значень випадкової величини $\\xi$;\n",
    "2. Реалізуйте 2 сабплоти в одному рядку;\n",
    "3. На першому сабплоті намалюйте:\n",
    "   - нормовану гістограму згенерованих $n = 10000$ значень випадкової величини $\\xi$;\n",
    "   - функцію щільності випадкової величини $\\xi$;\n",
    "4. Отримайте $n = 10000$ значень випадкової величини $\\eta = |2 \\xi - 1|$ (застосуйте функцію модуль до згенерованих $n = 10000$ значень випадкової величини $\\xi$);\n",
    "5. На другому сабплоті намалюйте:\n",
    "   - нормовану гістограму отриманих $n = 10000$ значень випадкової величини $\\eta$;\n",
    "   - функцію щільності випадкової величини $\\xi$;\n",
    "   - функцію щільності випадкової величини $\\eta$."
   ]
  },
  {
   "cell_type": "code",
   "execution_count": null,
   "metadata": {},
   "outputs": [],
   "source": [
    "# Місце для Вашого коду\n",
    "ksi = uniform(0,1)\n",
    "x = np.arange(0, 1, 0.01)\n",
    "\n",
    "fig, axs = plt.subplots(1,2, figsize=(10,10))\n",
    "axs[0].hist(ksi.rvs(100000),density=True, bins=60,rwidth=0.9)\n",
    "axs[0].plot(x, ksi.pdf(x),'r')\n",
    "\n",
    "axs[1].hist(np.abs(ksi.rvs(100000)*2-1),density=True, bins=60,rwidth=0.9)\n",
    "axs[1].plot(x, ksi.pdf(x), 'r')\n",
    "axs[1].plot(np.abs(2*x - 1), rv.pdf((x + 1) / 2) + rv.pdf(-(x + 1) / 2), 'y')\n",
    "\n",
    "plt.show()\n"
   ]
  },
  {
   "cell_type": "markdown",
   "metadata": {},
   "source": [
    "### 4.3 Логарифм"
   ]
  },
  {
   "cell_type": "markdown",
   "metadata": {},
   "source": [
    "1. Згенеруйте $n = 10000$ значень випадкової величини $\\xi$;\n",
    "2. Реалізуйте 2 сабплоти в одному рядку;\n",
    "3. На першому сабплоті намалюйте:\n",
    "   - нормовану гістограму згенерованих $n = 10000$ значень випадкової величини $\\xi$;\n",
    "   - функцію щільності випадкової величини $\\xi$;\n",
    "4. Отримайте $n = 10000$ значень випадкової величини $\\eta = - \\log \\xi$ (застосуйте функцію модуль до згенерованих $n = 10000$ значень випадкової величини $\\xi$);\n",
    "5. На другому сабплоті намалюйте:\n",
    "   - нормовану гістограму отриманих $n = 10000$ значень випадкової величини $\\eta$;\n",
    "   - функцію щільності випадкової величини $\\xi$;\n",
    "   - функцію щільності випадкової величини $\\eta$."
   ]
  },
  {
   "cell_type": "code",
   "execution_count": null,
   "metadata": {},
   "outputs": [],
   "source": [
    "# Місце для Вашого коду\n",
    "ksi = uniform(0,1)\n",
    "x = np.arange(0, 1, 0.01)\n",
    "\n",
    "fig, axs = plt.subplots(1,2, figsize=(10,10))\n",
    "axs[0].hist(ksi.rvs(100000),density=True, bins=60,rwidth=0.9)\n",
    "axs[0].plot(x, ksi.pdf(x),'r')\n",
    "\n",
    "axs[1].hist(np.abs(-np.log(ksi.rvs(100000))),density=True, bins=60,rwidth=0.9)\n",
    "axs[1].plot(x, ksi.pdf(x), 'r')\n",
    "axs[1].plot(-np.log(x), x * rv.pdf(np.exp(-x)), 'y')\n",
    "\n",
    "plt.show()\n"
   ]
  },
  {
   "cell_type": "markdown",
   "metadata": {},
   "source": [
    "## 5 Одиничний квадрат"
   ]
  },
  {
   "cell_type": "markdown",
   "metadata": {},
   "source": [
    "Реалізуйте вадкову величину рівномірно розподілену на одиничному квадраті.\n",
    "Тобто $\\xi = (x, y), \\quad x, y \\sim Unif(0, 1)$."
   ]
  },
  {
   "cell_type": "code",
   "execution_count": null,
   "metadata": {},
   "outputs": [],
   "source": [
    "# Місце для Вашого коду\n",
    "ksi = (uniform(0,1), uniform(0,1))"
   ]
  },
  {
   "cell_type": "markdown",
   "metadata": {},
   "source": [
    "Знайдіть функцію щільності випадкової величини $\\xi_1 = x^2 + y^2$.\n",
    "Намалюйте її разом із нормованою гістограмою $n = 100000$ значень випадкової величини $\\xi_1$,\n",
    "отриманою перетвореннями випадкових величин $x, y$."
   ]
  },
  {
   "cell_type": "code",
   "execution_count": 10,
   "metadata": {},
   "outputs": [
    {
     "data": {
      "image/png": "[encoded data removed]",
      "text/plain": [
       "<Figure size 432x288 with 1 Axes>"
      ]
     },
     "metadata": {
      "needs_background": "light"
     },
     "output_type": "display_data"
    }
   ],
   "source": [
    "# Місце для Вашого коду\n",
    "from scipy.stats import uniform\n",
    "\n",
    "\n",
    "random = uniform(0, 1).rvs(100_000) ** 2 + uniform(0, 1).rvs(100_000) ** 2\n",
    "x = np.arange(0, 2, 0.01)\n",
    "\n",
    "\n",
    "def ksi_1(x):\n",
    "    res = np.pi / 4 if 0 <= x <= 1 else 0\n",
    "    res += (np.pi/4 - np.arccos(1 / np.sqrt(x)) + 1 / (2 * np.sqrt(x - 1))) if 1 < x <= 2 else 0\n",
    "    res -= 1 / (2 * np.sqrt(x - 1)) if 1 < x <= 2 else 0\n",
    "    return res\n",
    "\n",
    "plt.hist(random, bins=20, density=True, rwidth=0.9)\n",
    "plt.plot(x, list(map(ksi_1, x)), 'r')\n",
    "plt.show()\n"
   ]
  },
  {
   "cell_type": "markdown",
   "metadata": {},
   "source": [
    "Знайдіть функцію щільності випадкової величини $\\xi_2 = \\max (x, y)$.\n",
    "Намалюйте її разом із нормованою гістограмою $n = 100000$ значень випадкової величини $\\xi_2$,\n",
    "отриманою перетвореннями випадкових величин $x, y$."
   ]
  },
  {
   "cell_type": "code",
   "execution_count": 13,
   "metadata": {},
   "outputs": [
    {
     "data": {
      "image/png": "[encoded data removed]",
      "text/plain": [
       "<Figure size 432x288 with 1 Axes>"
      ]
     },
     "metadata": {
      "needs_background": "light"
     },
     "output_type": "display_data"
    }
   ],
   "source": [
    "# Місце для Вашого коду\n",
    "ksi = uniform(0,1)\n",
    "random = np.array([max(a, b) for a, b in zip(ksi.rvs(100000), ksi.rvs(100000))])\n",
    "x = np.arange(0, 1, 0.01)\n",
    "\n",
    "plt.hist(random, bins=30, density=True, rwidth=0.9)\n",
    "plt.plot(x, 2*x, 'r')\n",
    "plt.show()\n"
   ]
  },
  {
   "cell_type": "markdown",
   "metadata": {},
   "source": [
    "Знайдіть функцію щільності випадкової величини $\\xi_3 = |x - y|$.\n",
    "Намалюйте її разом із нормованою гістограмою $n = 100000$ значень випадкової величини $\\xi_3$,\n",
    "отриманою перетвореннями випадкових величин $x, y$."
   ]
  },
  {
   "cell_type": "code",
   "execution_count": 15,
   "metadata": {},
   "outputs": [
    {
     "data": {
      "image/png": "[encoded data removed]",
      "text/plain": [
       "<Figure size 432x288 with 1 Axes>"
      ]
     },
     "metadata": {
      "needs_background": "light"
     },
     "output_type": "display_data"
    }
   ],
   "source": [
    "# Місце для Вашого коду\n",
    "ksi = uniform(0,1)\n",
    "random = np.array([abs(a - b) for a, b in zip(ksi.rvs(100000), ksi.rvs(100_000))])\n",
    "x = np.arange(0, 1, 0.01)\n",
    "\n",
    "plt.hist(random, bins=30, density=True, rwidth=0.9)\n",
    "plt.plot(x, 2 - 2*x, 'r')\n",
    "plt.show()\n"
   ]
  },
  {
   "cell_type": "code",
   "execution_count": null,
   "metadata": {},
   "outputs": [],
   "source": []
  }
 ],
 "metadata": {
  "kernelspec": {
   "display_name": "Python 3",
   "language": "python",
   "name": "python3"
  }
 },
 "nbformat": 4,
 "nbformat_minor": 1
}

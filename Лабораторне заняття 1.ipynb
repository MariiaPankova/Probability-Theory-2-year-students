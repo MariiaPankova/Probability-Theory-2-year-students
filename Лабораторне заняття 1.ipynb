{
 "cells": [
  {
   "cell_type": "markdown",
   "metadata": {},
   "source": [
    "# Лабораторне заняття №1"
   ]
  },
  {
   "cell_type": "markdown",
   "metadata": {},
   "source": [
    "## 1 Перестановки"
   ]
  },
  {
   "cell_type": "markdown",
   "metadata": {},
   "source": [
    "### 1.1 Використовуючи власну функцію"
   ]
  },
  {
   "cell_type": "code",
   "execution_count": 1,
   "metadata": {
    "collapsed": true
   },
   "outputs": [],
   "source": [
    "def permute(A):\n",
    "    if len(A)==1:\n",
    "        return [tuple(A)]\n",
    "    permutations = []\n",
    "    for x in A:\n",
    "        for y in permute(A-{x}):\n",
    "            permutations.append((x,)+y)\n",
    "    return permutations"
   ]
  },
  {
   "cell_type": "code",
   "execution_count": 2,
   "metadata": {
    "collapsed": true
   },
   "outputs": [],
   "source": [
    "A = {1, 2, 3}"
   ]
  },
  {
   "cell_type": "code",
   "execution_count": 9,
   "metadata": {
    "collapsed": false
   },
   "outputs": [
    {
     "name": "stdout",
     "output_type": "stream",
     "text": [
      "Перестановки множини {1, 2, 3}: {(3, 1, 2), (1, 3, 2), (3, 2, 1), (2, 3, 1), (1, 2, 3), (2, 1, 3)}\n",
      "Кількість перестановок:  6\n"
     ]
    }
   ],
   "source": [
    "# Використовуючи власну функцію\n",
    "permute_all = set(permute(A))\n",
    "print(\"Перестановки множини {}: {}\".format(A,permute_all))\n",
    "print(\"Кількість перестановок: \", len(permute_all))"
   ]
  },
  {
   "cell_type": "markdown",
   "metadata": {},
   "source": [
    "### 1.2 Використовуючи бібліотеку `itertools`"
   ]
  },
  {
   "cell_type": "code",
   "execution_count": 4,
   "metadata": {
    "collapsed": true
   },
   "outputs": [],
   "source": [
    "from itertools import permutations"
   ]
  },
  {
   "cell_type": "code",
   "execution_count": null,
   "metadata": {
    "collapsed": true
   },
   "outputs": [],
   "source": [
    "A = {1, 2, 3}"
   ]
  },
  {
   "cell_type": "code",
   "execution_count": 10,
   "metadata": {
    "collapsed": false
   },
   "outputs": [
    {
     "name": "stdout",
     "output_type": "stream",
     "text": [
      "Перестановки множини {1, 2, 3}: {(3, 1, 2), (1, 3, 2), (3, 2, 1), (2, 3, 1), (1, 2, 3), (2, 1, 3)}\n",
      "Кількість перестановок:  6\n"
     ]
    }
   ],
   "source": [
    "# Використовуючи бібліотеку itertools\n",
    "permute_all = set(permutations(A))\n",
    "print(\"Перестановки множини {}: {}\".format(A,permute_all))\n",
    "print(\"Кількість перестановок: \", len(permute_all))"
   ]
  },
  {
   "cell_type": "code",
   "execution_count": null,
   "metadata": {},
   "outputs": [],
   "source": [
    "### 1.3 Задача\n",
    "Виведіть всі можливі перестановки та порахуйте їх кількість від таких множин:\n",
    "- {1, 3, 5}\n",
    "- {1, 2, 3, 4}\n",
    "- {1, 2, 2, 1}\n",
    "\n",
    "Порахуйте кількість перестановок таких множин:\n",
    "- {1, 2, 3, 4, 5}\n",
    "- {1, 2, 3, 4, 5, 6, 7}\n",
    "- {1, 3, 5, 7, 9, 11, 13, 15, 17, 19}\n",
    "\n",
    "**Зауваження.** Спробуйте задати множину $\\{1, 2, 2, 1\\}$ у вигляді списку, тобто $A = [1, 2, 2, 1]$."
   ]
  },
  {
   "cell_type": "code",
   "execution_count": 1,
   "metadata": {
    "collapsed": true
   },
   "outputs": [
    {
     "name": "stdout",
     "output_type": "stream",
     "text": [
      "Set {1, 3, 5}:\n  Permutations: {(3, 5, 1), (5, 3, 1), (1, 5, 3), (3, 1, 5), (1, 3, 5), (5, 1, 3)}\n  Number of permutations: 6\n\nSet {1, 2, 3, 4}:\n  Permutations: {(4, 1, 2, 3), (1, 3, 2, 4), (3, 4, 1, 2), (1, 4, 2, 3), (4, 2, 3, 1), (2, 4, 1, 3), (4, 3, 1, 2), (2, 1, 3, 4), (3, 1, 4, 2), (3, 2, 4, 1), (1, 3, 4, 2), (1, 2, 4, 3), (2, 4, 3, 1), (3, 1, 2, 4), (4, 1, 3, 2), (2, 3, 1, 4), (4, 2, 1, 3), (1, 2, 3, 4), (1, 4, 3, 2), (3, 4, 2, 1), (2, 3, 4, 1), (4, 3, 2, 1), (3, 2, 1, 4), (2, 1, 4, 3)}\n  Number of permutations: 24\n\nSet {1, 2}:\n  Permutations: {(1, 2), (2, 1)}\n  Number of permutations: 2\n\nSet {1, 2, 3, 4, 5}:\n  Number of permutations: 120\n\nSet {1, 2, 3, 4, 5, 6, 7}:\n  Number of permutations: 5040\n\nSet {1, 3, 5, 7, 9, 11, 13, 15, 17, 19}:\n  Number of permutations: 3628800\n\n"
     ]
    }
   ],
   "source": [
    "# Місце для Вашого коду\n",
    "from itertools import permutations\n",
    "\n",
    "to_permute = [{1, 3, 5}, {1, 2, 3, 4}, {1, 2, 2, 1}]\n",
    "only_count = [{1, 2, 3, 4, 5}, {1, 2, 3, 4, 5, 6, 7}, {1, 3, 5, 7, 9, 11, 13, 15, 17, 19}]\n",
    "\n",
    "for permute_and_count in to_permute:\n",
    "    t = set(permutations(permute_and_count))\n",
    "    print(\"Set {}:\\n  Permutations: {}\\n  Number of permutations: {}\\n\".format(permute_and_count,t, len(t)))\n",
    "    \n",
    "for to_count in only_count:\n",
    "    t = set(permutations(to_count))\n",
    "    print(\"Set {}:\\n  Number of permutations: {}\\n\".format(to_count, len(t)))\n"
   ]
  },
  {
   "cell_type": "code",
   "execution_count": null,
   "metadata": {},
   "outputs": [],
   "source": [
    "### 1.4 Задача\n",
    "Виведіть всі можливі перестановки без нерухомих точок та порахуйте їх кількість від таких множин:\n",
    "- {1, 2, 3}\n",
    "- {1, 2, 3, 4}\n",
    "- {1, 3, 5, 7}\n",
    "- {1, 2, 2, 1}\n",
    "\n",
    "_Перестановка без нерухомих точок_ - це така перестановка, в якій позиція кожного елементу не збігається з його позицією в початковій множині.\n",
    "**Приклад.** Для множини {1, 2, 3, 4, 5}:\n",
    "- {4, 1, 5, 2, 3} - перестановка без нерухомих точок\n",
    "- {4, **2**, 1, 3, **5**} - перестановка з нерухомими точками"
   ]
  },
  {
   "cell_type": "code",
   "execution_count": 2,
   "metadata": {
    "collapsed": true
   },
   "outputs": [
    {
     "name": "stdout",
     "output_type": "stream",
     "text": [
      "Set {1, 3, 5}:\n  Permutations: [(3, 5, 1), (5, 1, 3)]\n  Number of permutations: 2\n\nSet {1, 2, 3, 4}:\n  Permutations: [(2, 1, 4, 3), (2, 3, 4, 1), (2, 4, 1, 3), (3, 1, 4, 2), (3, 4, 1, 2), (3, 4, 2, 1), (4, 1, 2, 3), (4, 3, 1, 2), (4, 3, 2, 1)]\n  Number of permutations: 9\n\nSet {1, 2}:\n  Permutations: [(2, 1)]\n  Number of permutations: 1\n\n"
     ]
    }
   ],
   "source": [
    "# Місце для Вашого коду\n",
    "def permute_without_fixed(iterable):\n",
    "    \n",
    "    fixed = list(iterable)\n",
    "    res = permutations(iterable)  # Get all permutations\n",
    "    \n",
    "    def is_fixed(x):  # Add checking of fixed points to permute function\n",
    "        for i in range(len(fixed)):\n",
    "            if fixed[i] == x[i]:\n",
    "                return True\n",
    "        return False\n",
    "            \n",
    "    for element in res:  # Yield only without fixed points\n",
    "        if not is_fixed(element):\n",
    "            yield element\n",
    "    \n",
    "\n",
    "to_permute = [{1, 3, 5}, {1, 2, 3, 4}, {1, 2, 2, 1}]\n",
    "for el in to_permute:\n",
    "    t = list(permute_without_fixed(el))\n",
    "    print(\"Set {}:\\n  Permutations: {}\\n  Number of permutations: {}\\n\".format(el, t, len(t)))\n"
   ]
  },
  {
   "cell_type": "code",
   "execution_count": null,
   "metadata": {},
   "outputs": [],
   "source": [
    "### 1.5 Задача\n",
    "Виведіть всі можливі перестановки, в яких перші $4$ елементи зростають, а наступні спадають, та порахуйте їх кількість від таких множин:\n",
    "- {1, 2, 3, 4, 5, 6, 7, 8}\n",
    "- {1, 2, 3, 4, 5, 6, 7, 8, 9, 10}\n",
    "\n",
    "**Зауваження.** Нехай перестановка\n",
    "$\\pi = \\left( \\sigma_1, \\sigma_2, \\sigma_3, \\sigma_4, \\sigma_5, \\sigma_6, \\sigma_7, \\sigma_8 \\right)$.\n",
    "Тоді має виконуватися така умова:\n",
    "$$\n",
    "  \\sigma_1 < \\sigma_2 < \\sigma_3 < \\sigma_4 > \\sigma_5 > \\sigma_6 > \\sigma_7 > \\sigma_8.\n",
    "$$"
   ]
  },
  {
   "cell_type": "code",
   "execution_count": 3,
   "metadata": {
    "collapsed": true
   },
   "outputs": [
    {
     "name": "stdout",
     "output_type": "stream",
     "text": [
      "Set {1, 2, 3, 4, 5, 6, 7, 8}:\n  Permutations: [(1, 2, 3, 4, 8, 7, 6, 5), (1, 2, 3, 5, 8, 7, 6, 4), (1, 2, 3, 6, 8, 7, 5, 4), (1, 2, 3, 7, 8, 6, 5, 4), (1, 2, 3, 8, 7, 6, 5, 4), (1, 2, 4, 5, 8, 7, 6, 3), (1, 2, 4, 6, 8, 7, 5, 3), (1, 2, 4, 7, 8, 6, 5, 3), (1, 2, 4, 8, 7, 6, 5, 3), (1, 2, 5, 6, 8, 7, 4, 3), (1, 2, 5, 7, 8, 6, 4, 3), (1, 2, 5, 8, 7, 6, 4, 3), (1, 2, 6, 7, 8, 5, 4, 3), (1, 2, 6, 8, 7, 5, 4, 3), (1, 2, 7, 8, 6, 5, 4, 3), (1, 3, 4, 5, 8, 7, 6, 2), (1, 3, 4, 6, 8, 7, 5, 2), (1, 3, 4, 7, 8, 6, 5, 2), (1, 3, 4, 8, 7, 6, 5, 2), (1, 3, 5, 6, 8, 7, 4, 2), (1, 3, 5, 7, 8, 6, 4, 2), (1, 3, 5, 8, 7, 6, 4, 2), (1, 3, 6, 7, 8, 5, 4, 2), (1, 3, 6, 8, 7, 5, 4, 2), (1, 3, 7, 8, 6, 5, 4, 2), (1, 4, 5, 6, 8, 7, 3, 2), (1, 4, 5, 7, 8, 6, 3, 2), (1, 4, 5, 8, 7, 6, 3, 2), (1, 4, 6, 7, 8, 5, 3, 2), (1, 4, 6, 8, 7, 5, 3, 2), (1, 4, 7, 8, 6, 5, 3, 2), (1, 5, 6, 7, 8, 4, 3, 2), (1, 5, 6, 8, 7, 4, 3, 2), (1, 5, 7, 8, 6, 4, 3, 2), (1, 6, 7, 8, 5, 4, 3, 2), (2, 3, 4, 5, 8, 7, 6, 1), (2, 3, 4, 6, 8, 7, 5, 1), (2, 3, 4, 7, 8, 6, 5, 1), (2, 3, 4, 8, 7, 6, 5, 1), (2, 3, 5, 6, 8, 7, 4, 1), (2, 3, 5, 7, 8, 6, 4, 1), (2, 3, 5, 8, 7, 6, 4, 1), (2, 3, 6, 7, 8, 5, 4, 1), (2, 3, 6, 8, 7, 5, 4, 1), (2, 3, 7, 8, 6, 5, 4, 1), (2, 4, 5, 6, 8, 7, 3, 1), (2, 4, 5, 7, 8, 6, 3, 1), (2, 4, 5, 8, 7, 6, 3, 1), (2, 4, 6, 7, 8, 5, 3, 1), (2, 4, 6, 8, 7, 5, 3, 1), (2, 4, 7, 8, 6, 5, 3, 1), (2, 5, 6, 7, 8, 4, 3, 1), (2, 5, 6, 8, 7, 4, 3, 1), (2, 5, 7, 8, 6, 4, 3, 1), (2, 6, 7, 8, 5, 4, 3, 1), (3, 4, 5, 6, 8, 7, 2, 1), (3, 4, 5, 7, 8, 6, 2, 1), (3, 4, 5, 8, 7, 6, 2, 1), (3, 4, 6, 7, 8, 5, 2, 1), (3, 4, 6, 8, 7, 5, 2, 1), (3, 4, 7, 8, 6, 5, 2, 1), (3, 5, 6, 7, 8, 4, 2, 1), (3, 5, 6, 8, 7, 4, 2, 1), (3, 5, 7, 8, 6, 4, 2, 1), (3, 6, 7, 8, 5, 4, 2, 1), (4, 5, 6, 7, 8, 3, 2, 1), (4, 5, 6, 8, 7, 3, 2, 1), (4, 5, 7, 8, 6, 3, 2, 1), (4, 6, 7, 8, 5, 3, 2, 1), (5, 6, 7, 8, 4, 3, 2, 1)]\n  Number of permutations: 70\n\n"
     ]
    },
    {
     "name": "stdout",
     "output_type": "stream",
     "text": [
      "Set {1, 2, 3, 4, 5, 6, 7, 8, 9, 10}:\n  Permutations: [(1, 2, 3, 4, 10, 9, 8, 7, 6, 5), (1, 2, 3, 5, 10, 9, 8, 7, 6, 4), (1, 2, 3, 6, 10, 9, 8, 7, 5, 4), (1, 2, 3, 7, 10, 9, 8, 6, 5, 4), (1, 2, 3, 8, 10, 9, 7, 6, 5, 4), (1, 2, 3, 9, 10, 8, 7, 6, 5, 4), (1, 2, 3, 10, 9, 8, 7, 6, 5, 4), (1, 2, 4, 5, 10, 9, 8, 7, 6, 3), (1, 2, 4, 6, 10, 9, 8, 7, 5, 3), (1, 2, 4, 7, 10, 9, 8, 6, 5, 3), (1, 2, 4, 8, 10, 9, 7, 6, 5, 3), (1, 2, 4, 9, 10, 8, 7, 6, 5, 3), (1, 2, 4, 10, 9, 8, 7, 6, 5, 3), (1, 2, 5, 6, 10, 9, 8, 7, 4, 3), (1, 2, 5, 7, 10, 9, 8, 6, 4, 3), (1, 2, 5, 8, 10, 9, 7, 6, 4, 3), (1, 2, 5, 9, 10, 8, 7, 6, 4, 3), (1, 2, 5, 10, 9, 8, 7, 6, 4, 3), (1, 2, 6, 7, 10, 9, 8, 5, 4, 3), (1, 2, 6, 8, 10, 9, 7, 5, 4, 3), (1, 2, 6, 9, 10, 8, 7, 5, 4, 3), (1, 2, 6, 10, 9, 8, 7, 5, 4, 3), (1, 2, 7, 8, 10, 9, 6, 5, 4, 3), (1, 2, 7, 9, 10, 8, 6, 5, 4, 3), (1, 2, 7, 10, 9, 8, 6, 5, 4, 3), (1, 2, 8, 9, 10, 7, 6, 5, 4, 3), (1, 2, 8, 10, 9, 7, 6, 5, 4, 3), (1, 2, 9, 10, 8, 7, 6, 5, 4, 3), (1, 3, 4, 5, 10, 9, 8, 7, 6, 2), (1, 3, 4, 6, 10, 9, 8, 7, 5, 2), (1, 3, 4, 7, 10, 9, 8, 6, 5, 2), (1, 3, 4, 8, 10, 9, 7, 6, 5, 2), (1, 3, 4, 9, 10, 8, 7, 6, 5, 2), (1, 3, 4, 10, 9, 8, 7, 6, 5, 2), (1, 3, 5, 6, 10, 9, 8, 7, 4, 2), (1, 3, 5, 7, 10, 9, 8, 6, 4, 2), (1, 3, 5, 8, 10, 9, 7, 6, 4, 2), (1, 3, 5, 9, 10, 8, 7, 6, 4, 2), (1, 3, 5, 10, 9, 8, 7, 6, 4, 2), (1, 3, 6, 7, 10, 9, 8, 5, 4, 2), (1, 3, 6, 8, 10, 9, 7, 5, 4, 2), (1, 3, 6, 9, 10, 8, 7, 5, 4, 2), (1, 3, 6, 10, 9, 8, 7, 5, 4, 2), (1, 3, 7, 8, 10, 9, 6, 5, 4, 2), (1, 3, 7, 9, 10, 8, 6, 5, 4, 2), (1, 3, 7, 10, 9, 8, 6, 5, 4, 2), (1, 3, 8, 9, 10, 7, 6, 5, 4, 2), (1, 3, 8, 10, 9, 7, 6, 5, 4, 2), (1, 3, 9, 10, 8, 7, 6, 5, 4, 2), (1, 4, 5, 6, 10, 9, 8, 7, 3, 2), (1, 4, 5, 7, 10, 9, 8, 6, 3, 2), (1, 4, 5, 8, 10, 9, 7, 6, 3, 2), (1, 4, 5, 9, 10, 8, 7, 6, 3, 2), (1, 4, 5, 10, 9, 8, 7, 6, 3, 2), (1, 4, 6, 7, 10, 9, 8, 5, 3, 2), (1, 4, 6, 8, 10, 9, 7, 5, 3, 2), (1, 4, 6, 9, 10, 8, 7, 5, 3, 2), (1, 4, 6, 10, 9, 8, 7, 5, 3, 2), (1, 4, 7, 8, 10, 9, 6, 5, 3, 2), (1, 4, 7, 9, 10, 8, 6, 5, 3, 2), (1, 4, 7, 10, 9, 8, 6, 5, 3, 2), (1, 4, 8, 9, 10, 7, 6, 5, 3, 2), (1, 4, 8, 10, 9, 7, 6, 5, 3, 2), (1, 4, 9, 10, 8, 7, 6, 5, 3, 2), (1, 5, 6, 7, 10, 9, 8, 4, 3, 2), (1, 5, 6, 8, 10, 9, 7, 4, 3, 2), (1, 5, 6, 9, 10, 8, 7, 4, 3, 2), (1, 5, 6, 10, 9, 8, 7, 4, 3, 2), (1, 5, 7, 8, 10, 9, 6, 4, 3, 2), (1, 5, 7, 9, 10, 8, 6, 4, 3, 2), (1, 5, 7, 10, 9, 8, 6, 4, 3, 2), (1, 5, 8, 9, 10, 7, 6, 4, 3, 2), (1, 5, 8, 10, 9, 7, 6, 4, 3, 2), (1, 5, 9, 10, 8, 7, 6, 4, 3, 2), (1, 6, 7, 8, 10, 9, 5, 4, 3, 2), (1, 6, 7, 9, 10, 8, 5, 4, 3, 2), (1, 6, 7, 10, 9, 8, 5, 4, 3, 2), (1, 6, 8, 9, 10, 7, 5, 4, 3, 2), (1, 6, 8, 10, 9, 7, 5, 4, 3, 2), (1, 6, 9, 10, 8, 7, 5, 4, 3, 2), (1, 7, 8, 9, 10, 6, 5, 4, 3, 2), (1, 7, 8, 10, 9, 6, 5, 4, 3, 2), (1, 7, 9, 10, 8, 6, 5, 4, 3, 2), (1, 8, 9, 10, 7, 6, 5, 4, 3, 2), (2, 3, 4, 5, 10, 9, 8, 7, 6, 1), (2, 3, 4, 6, 10, 9, 8, 7, 5, 1), (2, 3, 4, 7, 10, 9, 8, 6, 5, 1), (2, 3, 4, 8, 10, 9, 7, 6, 5, 1), (2, 3, 4, 9, 10, 8, 7, 6, 5, 1), (2, 3, 4, 10, 9, 8, 7, 6, 5, 1), (2, 3, 5, 6, 10, 9, 8, 7, 4, 1), (2, 3, 5, 7, 10, 9, 8, 6, 4, 1), (2, 3, 5, 8, 10, 9, 7, 6, 4, 1), (2, 3, 5, 9, 10, 8, 7, 6, 4, 1), (2, 3, 5, 10, 9, 8, 7, 6, 4, 1), (2, 3, 6, 7, 10, 9, 8, 5, 4, 1), (2, 3, 6, 8, 10, 9, 7, 5, 4, 1), (2, 3, 6, 9, 10, 8, 7, 5, 4, 1), (2, 3, 6, 10, 9, 8, 7, 5, 4, 1), (2, 3, 7, 8, 10, 9, 6, 5, 4, 1), (2, 3, 7, 9, 10, 8, 6, 5, 4, 1), (2, 3, 7, 10, 9, 8, 6, 5, 4, 1), (2, 3, 8, 9, 10, 7, 6, 5, 4, 1), (2, 3, 8, 10, 9, 7, 6, 5, 4, 1), (2, 3, 9, 10, 8, 7, 6, 5, 4, 1), (2, 4, 5, 6, 10, 9, 8, 7, 3, 1), (2, 4, 5, 7, 10, 9, 8, 6, 3, 1), (2, 4, 5, 8, 10, 9, 7, 6, 3, 1), (2, 4, 5, 9, 10, 8, 7, 6, 3, 1), (2, 4, 5, 10, 9, 8, 7, 6, 3, 1), (2, 4, 6, 7, 10, 9, 8, 5, 3, 1), (2, 4, 6, 8, 10, 9, 7, 5, 3, 1), (2, 4, 6, 9, 10, 8, 7, 5, 3, 1), (2, 4, 6, 10, 9, 8, 7, 5, 3, 1), (2, 4, 7, 8, 10, 9, 6, 5, 3, 1), (2, 4, 7, 9, 10, 8, 6, 5, 3, 1), (2, 4, 7, 10, 9, 8, 6, 5, 3, 1), (2, 4, 8, 9, 10, 7, 6, 5, 3, 1), (2, 4, 8, 10, 9, 7, 6, 5, 3, 1), (2, 4, 9, 10, 8, 7, 6, 5, 3, 1), (2, 5, 6, 7, 10, 9, 8, 4, 3, 1), (2, 5, 6, 8, 10, 9, 7, 4, 3, 1), (2, 5, 6, 9, 10, 8, 7, 4, 3, 1), (2, 5, 6, 10, 9, 8, 7, 4, 3, 1), (2, 5, 7, 8, 10, 9, 6, 4, 3, 1), (2, 5, 7, 9, 10, 8, 6, 4, 3, 1), (2, 5, 7, 10, 9, 8, 6, 4, 3, 1), (2, 5, 8, 9, 10, 7, 6, 4, 3, 1), (2, 5, 8, 10, 9, 7, 6, 4, 3, 1), (2, 5, 9, 10, 8, 7, 6, 4, 3, 1), (2, 6, 7, 8, 10, 9, 5, 4, 3, 1), (2, 6, 7, 9, 10, 8, 5, 4, 3, 1), (2, 6, 7, 10, 9, 8, 5, 4, 3, 1), (2, 6, 8, 9, 10, 7, 5, 4, 3, 1), (2, 6, 8, 10, 9, 7, 5, 4, 3, 1), (2, 6, 9, 10, 8, 7, 5, 4, 3, 1), (2, 7, 8, 9, 10, 6, 5, 4, 3, 1), (2, 7, 8, 10, 9, 6, 5, 4, 3, 1), (2, 7, 9, 10, 8, 6, 5, 4, 3, 1), (2, 8, 9, 10, 7, 6, 5, 4, 3, 1), (3, 4, 5, 6, 10, 9, 8, 7, 2, 1), (3, 4, 5, 7, 10, 9, 8, 6, 2, 1), (3, 4, 5, 8, 10, 9, 7, 6, 2, 1), (3, 4, 5, 9, 10, 8, 7, 6, 2, 1), (3, 4, 5, 10, 9, 8, 7, 6, 2, 1), (3, 4, 6, 7, 10, 9, 8, 5, 2, 1), (3, 4, 6, 8, 10, 9, 7, 5, 2, 1), (3, 4, 6, 9, 10, 8, 7, 5, 2, 1), (3, 4, 6, 10, 9, 8, 7, 5, 2, 1), (3, 4, 7, 8, 10, 9, 6, 5, 2, 1), (3, 4, 7, 9, 10, 8, 6, 5, 2, 1), (3, 4, 7, 10, 9, 8, 6, 5, 2, 1), (3, 4, 8, 9, 10, 7, 6, 5, 2, 1), (3, 4, 8, 10, 9, 7, 6, 5, 2, 1), (3, 4, 9, 10, 8, 7, 6, 5, 2, 1), (3, 5, 6, 7, 10, 9, 8, 4, 2, 1), (3, 5, 6, 8, 10, 9, 7, 4, 2, 1), (3, 5, 6, 9, 10, 8, 7, 4, 2, 1), (3, 5, 6, 10, 9, 8, 7, 4, 2, 1), (3, 5, 7, 8, 10, 9, 6, 4, 2, 1), (3, 5, 7, 9, 10, 8, 6, 4, 2, 1), (3, 5, 7, 10, 9, 8, 6, 4, 2, 1), (3, 5, 8, 9, 10, 7, 6, 4, 2, 1), (3, 5, 8, 10, 9, 7, 6, 4, 2, 1), (3, 5, 9, 10, 8, 7, 6, 4, 2, 1), (3, 6, 7, 8, 10, 9, 5, 4, 2, 1), (3, 6, 7, 9, 10, 8, 5, 4, 2, 1), (3, 6, 7, 10, 9, 8, 5, 4, 2, 1), (3, 6, 8, 9, 10, 7, 5, 4, 2, 1), (3, 6, 8, 10, 9, 7, 5, 4, 2, 1), (3, 6, 9, 10, 8, 7, 5, 4, 2, 1), (3, 7, 8, 9, 10, 6, 5, 4, 2, 1), (3, 7, 8, 10, 9, 6, 5, 4, 2, 1), (3, 7, 9, 10, 8, 6, 5, 4, 2, 1), (3, 8, 9, 10, 7, 6, 5, 4, 2, 1), (4, 5, 6, 7, 10, 9, 8, 3, 2, 1), (4, 5, 6, 8, 10, 9, 7, 3, 2, 1), (4, 5, 6, 9, 10, 8, 7, 3, 2, 1), (4, 5, 6, 10, 9, 8, 7, 3, 2, 1), (4, 5, 7, 8, 10, 9, 6, 3, 2, 1), (4, 5, 7, 9, 10, 8, 6, 3, 2, 1), (4, 5, 7, 10, 9, 8, 6, 3, 2, 1), (4, 5, 8, 9, 10, 7, 6, 3, 2, 1), (4, 5, 8, 10, 9, 7, 6, 3, 2, 1), (4, 5, 9, 10, 8, 7, 6, 3, 2, 1), (4, 6, 7, 8, 10, 9, 5, 3, 2, 1), (4, 6, 7, 9, 10, 8, 5, 3, 2, 1), (4, 6, 7, 10, 9, 8, 5, 3, 2, 1), (4, 6, 8, 9, 10, 7, 5, 3, 2, 1), (4, 6, 8, 10, 9, 7, 5, 3, 2, 1), (4, 6, 9, 10, 8, 7, 5, 3, 2, 1), (4, 7, 8, 9, 10, 6, 5, 3, 2, 1), (4, 7, 8, 10, 9, 6, 5, 3, 2, 1), (4, 7, 9, 10, 8, 6, 5, 3, 2, 1), (4, 8, 9, 10, 7, 6, 5, 3, 2, 1), (5, 6, 7, 8, 10, 9, 4, 3, 2, 1), (5, 6, 7, 9, 10, 8, 4, 3, 2, 1), (5, 6, 7, 10, 9, 8, 4, 3, 2, 1), (5, 6, 8, 9, 10, 7, 4, 3, 2, 1), (5, 6, 8, 10, 9, 7, 4, 3, 2, 1), (5, 6, 9, 10, 8, 7, 4, 3, 2, 1), (5, 7, 8, 9, 10, 6, 4, 3, 2, 1), (5, 7, 8, 10, 9, 6, 4, 3, 2, 1), (5, 7, 9, 10, 8, 6, 4, 3, 2, 1), (5, 8, 9, 10, 7, 6, 4, 3, 2, 1), (6, 7, 8, 9, 10, 5, 4, 3, 2, 1), (6, 7, 8, 10, 9, 5, 4, 3, 2, 1), (6, 7, 9, 10, 8, 5, 4, 3, 2, 1), (6, 8, 9, 10, 7, 5, 4, 3, 2, 1), (7, 8, 9, 10, 6, 5, 4, 3, 2, 1)]\n  Number of permutations: 210\n\n"
     ]
    }
   ],
   "source": [
    "# Місце для Вашого коду\n",
    "def up_down_permutations(iterable, step=4):\n",
    "    \n",
    "    fixed = list(iterable)\n",
    "    res = permutations(iterable)  # Get all permutations\n",
    "    \n",
    "    def is_up_down(x):  # Check increasing/decreasing permutation. \n",
    "        if x[:step] == tuple(sorted(x[:step])) and x[step:] == tuple(sorted(x[step:], reverse=True)):\n",
    "            return True\n",
    "        else:\n",
    "            return False\n",
    "        \n",
    "    for element in res:  # Yield only increasing/decreasing permutation\n",
    "        if is_up_down(element):\n",
    "            yield element\n",
    "    \n",
    "\n",
    "to_permute = [{1, 2, 3, 4, 5, 6, 7, 8}, {1, 2, 3, 4, 5, 6, 7, 8, 9, 10}]\n",
    "for el in to_permute:\n",
    "    t = list(up_down_permutations(el))\n",
    "    print(\"Set {}:\\n  Permutations: {}\\n  Number of permutations: {}\\n\".format(el, t, len(t)))\n"
   ]
  },
  {
   "cell_type": "code",
   "execution_count": null,
   "metadata": {},
   "outputs": [],
   "source": [
    "## 2 Часткові перестановки"
   ]
  },
  {
   "cell_type": "code",
   "execution_count": null,
   "metadata": {},
   "outputs": [],
   "source": [
    "### 2.1 Використовуючи бібліотеку `itertools`"
   ]
  },
  {
   "cell_type": "code",
   "execution_count": 12,
   "metadata": {
    "collapsed": true
   },
   "outputs": [],
   "source": [
    "A = {1, 2, 3}\n",
    "k = 2"
   ]
  },
  {
   "cell_type": "code",
   "execution_count": 14,
   "metadata": {
    "collapsed": false
   },
   "outputs": [
    {
     "name": "stdout",
     "output_type": "stream",
     "text": [
      "Перестановки довжини 2 множини {1, 2, 3}: [(1, 2), (1, 3), (2, 1), (2, 3), (3, 1), (3, 2)]\n",
      "Кількість таких перестановок: 6\n"
     ]
    }
   ],
   "source": [
    "# перестановки довжини k множини A\n",
    "permute_k = list(permutations(A, k))\n",
    "print(\"Перестановки довжини {} множини {}: {}\".format(k,A,permute_k))\n",
    "print(\"Кількість таких перестановок: {}\".format(len(permute_k)))"
   ]
  },
  {
   "cell_type": "code",
   "execution_count": null,
   "metadata": {},
   "outputs": [],
   "source": [
    "### 2.2 Задача\n",
    "Нехай $n$ - розмір множини, $k$ - розмір перестановок.\n",
    "Виведіть всі можливі часткові перестановки та порахуйте їх кількість для таких параметрів:\n",
    "- $n = 4, k = 2$\n",
    "- $n = 4, k = 3$\n",
    "- $n = 5, k = 2$\n",
    "\n",
    "Порахуйте кількість часткових перестановок для таких параметрів:\n",
    "- $n = 6, k = 2$\n",
    "- $n = 6, k = 4$\n",
    "- $n = 8, k = 4$"
   ]
  },
  {
   "cell_type": "code",
   "execution_count": 4,
   "metadata": {
    "collapsed": true
   },
   "outputs": [
    {
     "name": "stdout",
     "output_type": "stream",
     "text": [
      "n=4, k=2\n Permutations: [(0, 1), (0, 2), (0, 3), (1, 0), (1, 2), (1, 3), (2, 0), (2, 1), (2, 3), (3, 0), (3, 1), (3, 2)]\n Number of permutations: 12\n\nn=4, k=3\n Permutations: [(0, 1, 2), (0, 1, 3), (0, 2, 1), (0, 2, 3), (0, 3, 1), (0, 3, 2), (1, 0, 2), (1, 0, 3), (1, 2, 0), (1, 2, 3), (1, 3, 0), (1, 3, 2), (2, 0, 1), (2, 0, 3), (2, 1, 0), (2, 1, 3), (2, 3, 0), (2, 3, 1), (3, 0, 1), (3, 0, 2), (3, 1, 0), (3, 1, 2), (3, 2, 0), (3, 2, 1)]\n Number of permutations: 24\n\nn=5, k=2\n Permutations: [(0, 1), (0, 2), (0, 3), (0, 4), (1, 0), (1, 2), (1, 3), (1, 4), (2, 0), (2, 1), (2, 3), (2, 4), (3, 0), (3, 1), (3, 2), (3, 4), (4, 0), (4, 1), (4, 2), (4, 3)]\n Number of permutations: 20\n\nn=6, k=2\n Number of permutations: 30\n\nn=6, k=4\n Number of permutations: 360\n\nn=8, k=4\n Number of permutations: 1680\n\n"
     ]
    }
   ],
   "source": [
    "# Місце для Вашого коду\n",
    "param_list = [(4, 2), (4, 3), (5, 2)]\n",
    "only_count = [(6, 2), (6, 4), (8, 4)]\n",
    "\n",
    "\n",
    "def permute_n_k(n, k, only_count_mode=False):\n",
    "    iterable = range(n)\n",
    "    res = list(permutations(iterable, k))\n",
    "    if only_count_mode:\n",
    "        return len(res)\n",
    "    else:\n",
    "        return res, len(res)\n",
    "\n",
    "\n",
    "for param in param_list:\n",
    "    perms, size = permute_n_k(*param)\n",
    "    print(\"n={}, k={}\\n Permutations: {}\\n Number of permutations: {}\\n\".format(*param, perms, size))\n",
    "    \n",
    "for param in only_count:\n",
    "    print(\"n={}, k={}\\n Number of permutations: {}\\n\".format(*param, permute_n_k(*param, only_count_mode=True)))\n"
   ]
  },
  {
   "cell_type": "code",
   "execution_count": null,
   "metadata": {},
   "outputs": [],
   "source": [
    "## 3 Комбінації без повторень"
   ]
  },
  {
   "cell_type": "code",
   "execution_count": null,
   "metadata": {},
   "outputs": [],
   "source": [
    "### 3.1 Використовуючи бібліотеку `itertools`"
   ]
  },
  {
   "cell_type": "code",
   "execution_count": 16,
   "metadata": {
    "collapsed": true
   },
   "outputs": [],
   "source": [
    "from itertools import combinations"
   ]
  },
  {
   "cell_type": "code",
   "execution_count": 18,
   "metadata": {
    "collapsed": true
   },
   "outputs": [],
   "source": [
    "A = {1, 2, 3}\n",
    "k = 2"
   ]
  },
  {
   "cell_type": "code",
   "execution_count": 19,
   "metadata": {
    "collapsed": false
   },
   "outputs": [
    {
     "name": "stdout",
     "output_type": "stream",
     "text": [
      "Комбінації довжини 2 множини {1, 2, 3}: [(1, 2), (1, 3), (2, 3)]\n",
      "Кількість таких комбінацій: 3\n"
     ]
    }
   ],
   "source": [
    "# комбінації довжини k множини A\n",
    "choose_k = list(combinations(A,k))\n",
    "print(\"Комбінації довжини {} множини {}: {}\".format(k,A,choose_k))\n",
    "print(\"Кількість таких комбінацій: {}\".format(len(choose_k)  ))"
   ]
  },
  {
   "cell_type": "code",
   "execution_count": null,
   "metadata": {},
   "outputs": [],
   "source": [
    "### 3.2 Задача\n",
    "Нехай $n$ - розмір множини, $k$ - розмір комбінацій.\n",
    "Виведіть всі можливі комбінації без повторень та порахуйте їх кількість для таких параметрів:\n",
    "- $n = 4, k = 2$\n",
    "- $n = 4, k = 3$\n",
    "- $n = 5, k = 2$\n",
    "\n",
    "Порахуйте кількість комбінацій без повторень для таких параметрів:\n",
    "- $n = 6, k = 2$\n",
    "- $n = 6, k = 4$\n",
    "- $n = 8, k = 4$"
   ]
  },
  {
   "cell_type": "code",
   "execution_count": 6,
   "metadata": {
    "collapsed": true
   },
   "outputs": [
    {
     "name": "stdout",
     "output_type": "stream",
     "text": [
      "n=4, k=2\n Combinations: [(0, 1), (0, 2), (0, 3), (1, 2), (1, 3), (2, 3)]\n Number of combinations: 6\n\nn=4, k=3\n Combinations: [(0, 1, 2), (0, 1, 3), (0, 2, 3), (1, 2, 3)]\n Number of combinations: 4\n\nn=5, k=2\n Combinations: [(0, 1), (0, 2), (0, 3), (0, 4), (1, 2), (1, 3), (1, 4), (2, 3), (2, 4), (3, 4)]\n Number of combinations: 10\n\nn=6, k=2\n Number of combinations: 15\n\nn=6, k=4\n Number of combinations: 15\n\nn=8, k=4\n Number of combinations: 70\n\n"
     ]
    }
   ],
   "source": [
    "# Місце для Вашого коду\n",
    "from itertools import combinations\n",
    "param_list = [(4, 2), (4, 3), (5, 2)]\n",
    "only_count = [(6, 2), (6, 4), (8, 4)]\n",
    "\n",
    "\n",
    "def permute_n_k_without_repeat(n, k, only_count_mode=False):\n",
    "    iterable = range(n)\n",
    "    res = list(combinations(iterable, k))\n",
    "    if only_count_mode:\n",
    "        return len(res)\n",
    "    else:\n",
    "        return res, len(res)\n",
    "\n",
    "\n",
    "for param in param_list:\n",
    "    perms, size = permute_n_k_without_repeat(*param)\n",
    "    print(\"n={}, k={}\\n Combinations: {}\\n Number of combinations: {}\\n\".format(*param, perms, size))\n",
    "    \n",
    "for param in only_count:\n",
    "    print(\"n={}, k={}\\n Number of combinations: {}\\n\".format(*param, \n",
    "        permute_n_k_without_repeat(*param, only_count_mode=True)))\n"
   ]
  },
  {
   "cell_type": "code",
   "execution_count": null,
   "metadata": {},
   "outputs": [],
   "source": [
    "### 3.3 Задача\n",
    "Нехай $A$ - множина з $10$ елементів, кожен з яких є цілим числом від $1$ до $25$.\n",
    "Тобто $$A = \\{ a_i \\}_{i = 1}^{10},\\\\ 1 \\leq a_i \\leq 25, \\quad i = 1, \\ldots, 10.$$\n",
    "Скільки елементів може бути в множині, яка складається із попарних сум елементів множини $A$?\n",
    "$$B = \\{ b_k \\, \\colon \\, b_k = a_i + a_j, \\quad a_i, a_j \\in A, \\, 1 \\leq i, j \\leq 10, \\, i \\neq j \\}_{k = 1}^{\\textbf{?}}$$"
   ]
  },
  {
   "cell_type": "code",
   "execution_count": 7,
   "metadata": {
    "collapsed": true
   },
   "outputs": [
    {
     "name": "stdout",
     "output_type": "stream",
     "text": [
      "Number of (ai, aj) - pairs: 45\n"
     ]
    }
   ],
   "source": [
    "# Місце для Вашого коду\n",
    "A = range(10)\n",
    "B = set(combinations(A,2))\n",
    "print(\"Number of (ai, aj) - pairs: {}\".format(len(B)))\n"
   ]
  },
  {
   "cell_type": "markdown",
   "metadata": {},
   "source": [
    "## 4 Комбінації з повтореннями"
   ]
  },
  {
   "cell_type": "markdown",
   "metadata": {},
   "source": [
    "### 4.1 Використовуючи бібліотеку `itertools`"
   ]
  },
  {
   "cell_type": "code",
   "execution_count": 8,
   "metadata": {
    "collapsed": true
   },
   "outputs": [],
   "source": [
    "from itertools import combinations_with_replacement"
   ]
  },
  {
   "cell_type": "code",
   "execution_count": 21,
   "metadata": {
    "collapsed": true
   },
   "outputs": [],
   "source": [
    "A = {1, 2, 3}\n",
    "k = 2"
   ]
  },
  {
   "cell_type": "code",
   "execution_count": 23,
   "metadata": {
    "collapsed": false
   },
   "outputs": [
    {
     "name": "stdout",
     "output_type": "stream",
     "text": [
      "Комбінації довжини 2 множини {1, 2, 3}: [(1, 1), (1, 2), (1, 3), (2, 2), (2, 3), (3, 3)]\n",
      "Кількість таких комбінацій: 6\n"
     ]
    }
   ],
   "source": [
    "# комбінації довжини k множини A\n",
    "choose_k = list(combinations_with_replacement(A,k))\n",
    "print(\"Комбінації довжини {} множини {}: {}\".format(k,A,choose_k))\n",
    "print(\"Кількість таких комбінацій: {}\".format(len(choose_k)  ))"
   ]
  },
  {
   "cell_type": "code",
   "execution_count": null,
   "metadata": {},
   "outputs": [],
   "source": [
    "### 4.2 Задача\n",
    "Нехай $n$ - розмір множини, $k$ - розмір комбінацій.\n",
    "Виведіть всі можливі комбінації з повтореннями та порахуйте їх кількість для таких параметрів:\n",
    "- $n = 4, k = 2$\n",
    "- $n = 4, k = 3$\n",
    "- $n = 5, k = 2$\n",
    "\n",
    "Порахуйте кількість комбінацій з повтореннями для таких параметрів:\n",
    "- $n = 6, k = 2$\n",
    "- $n = 6, k = 4$\n",
    "- $n = 8, k = 4$"
   ]
  },
  {
   "cell_type": "code",
   "execution_count": 9,
   "metadata": {
    "collapsed": true
   },
   "outputs": [
    {
     "name": "stdout",
     "output_type": "stream",
     "text": [
      "n=4, k=2\n Combinations with replacement: [(0, 0), (0, 1), (0, 2), (0, 3), (1, 1), (1, 2), (1, 3), (2, 2), (2, 3), (3, 3)]\n Number of combinations: 10\n\nn=4, k=3\n Combinations with replacement: [(0, 0, 0), (0, 0, 1), (0, 0, 2), (0, 0, 3), (0, 1, 1), (0, 1, 2), (0, 1, 3), (0, 2, 2), (0, 2, 3), (0, 3, 3), (1, 1, 1), (1, 1, 2), (1, 1, 3), (1, 2, 2), (1, 2, 3), (1, 3, 3), (2, 2, 2), (2, 2, 3), (2, 3, 3), (3, 3, 3)]\n Number of combinations: 20\n\nn=5, k=2\n Combinations with replacement: [(0, 0), (0, 1), (0, 2), (0, 3), (0, 4), (1, 1), (1, 2), (1, 3), (1, 4), (2, 2), (2, 3), (2, 4), (3, 3), (3, 4), (4, 4)]\n Number of combinations: 15\n\nn=6, k=2\n Number of combinations: 21\n\nn=6, k=4\n Number of combinations: 126\n\nn=8, k=4\n Number of combinations: 330\n\n"
     ]
    }
   ],
   "source": [
    "# Місце для Вашого коду\n",
    "param_list = [(4, 2), (4, 3), (5, 2)]\n",
    "only_count = [(6, 2), (6, 4), (8, 4)]\n",
    "\n",
    "\n",
    "def permute_n_k_with_replacement(n, k, only_count_mode=False):\n",
    "    iterable = range(n)\n",
    "    res = list(combinations_with_replacement(iterable, k))\n",
    "    if only_count_mode:\n",
    "        return len(res)\n",
    "    else:\n",
    "        return res, len(res)\n",
    "\n",
    "\n",
    "for param in param_list:\n",
    "    perms, size = permute_n_k_with_replacement(*param)\n",
    "    print(\"n={}, k={}\\n Combinations with replacement: {}\\n Number of combinations: {}\\n\".format(*param, perms, size))\n",
    "    \n",
    "for param in only_count:\n",
    "    print(\"n={}, k={}\\n Number of combinations: {}\\n\".format(*param, \n",
    "        permute_n_k_with_replacement(*param, only_count_mode=True)))\n",
    "\n"
   ]
  },
  {
   "cell_type": "code",
   "execution_count": null,
   "metadata": {},
   "outputs": [],
   "source": [
    "### 4.3 Задача\n",
    "Скільки існує 6-цифрових наборів таких, що сума перших трьох цифр дорівнює сумі останніх трьох?\n",
    "\n",
    "**Зауваження 1.** В задачі фігурують 6-цифрові набори, а не числа. Тобто перша цифра може дорівнювати $0$.\n",
    "\n",
    "**Зауваження 2.** Задача передбачає використання функції\n",
    "[product](https://docs.python.org/3/library/itertools.html#itertools.product)."
   ]
  },
  {
   "cell_type": "code",
   "execution_count": 10,
   "metadata": {
    "collapsed": true
   },
   "outputs": [
    {
     "name": "stdout",
     "output_type": "stream",
     "text": [
      "Amount of 6-number sets: 55252\n"
     ]
    }
   ],
   "source": [
    "# Місце для Вашого коду\n",
    "from itertools import product\n",
    "    \n",
    "A = list(range(10))\n",
    "sets = product(A, repeat=6)\n",
    "counter = 0\n",
    "for element in sets:\n",
    "    if sum(element[:3]) == sum(element[3:]):\n",
    "        counter += 1\n",
    "print(\"Amount of 6-number sets: {}\".format(counter))\n"
   ]
  },
  {
   "cell_type": "markdown",
   "metadata": {},
   "source": [
    "### 4.4 Задача\n",
    "Скільки існує 6-цифрових чисел, в яких дві однакові цифри не стоять поряд?\n",
    "\n",
    "**Зауваження 1.** В задачі фігурують 6-цифрові числа, тобто перша цифра не може дорівнювати $0$.\n",
    "\n",
    "**Зауваження 2.** Задача передбачає використання функції\n",
    "[product](https://docs.python.org/3/library/itertools.html#itertools.product)."
   ]
  },
  {
   "cell_type": "code",
   "execution_count": 11,
   "metadata": {
    "collapsed": true
   },
   "outputs": [
    {
     "name": "stdout",
     "output_type": "stream",
     "text": [
      "Amount of 6-number sets: 531441\n"
     ]
    }
   ],
   "source": [
    "# Місце для Вашого коду\n",
    "from itertools import product\n",
    "    \n",
    "    \n",
    "def check(x):\n",
    "    if x[0] == 0:  # Number can't start with 0\n",
    "        return False\n",
    "    for i in range(len(x)-1):\n",
    "        if x[i] == x[i+1]:\n",
    "            return False\n",
    "    return True\n",
    "    \n",
    "    \n",
    "A = list(range(10))\n",
    "sets = product(A, repeat=6)\n",
    "counter = 0\n",
    "for element in sets:\n",
    "    if check(element):\n",
    "        counter += 1\n",
    "print(\"Amount of 6-number sets: {}\".format(counter))\n",
    "\n"
   ]
  },
  {
   "cell_type": "code",
   "execution_count": null,
   "metadata": {},
   "outputs": [],
   "source": []
  }
 ],
 "metadata": {
  "kernelspec": {
   "display_name": "Python 3",
   "language": "python",
   "name": "python3"
  },
  "language_info": {
   "codemirror_mode": {
    "name": "ipython",
    "version": 3
   },
   "file_extension": ".py",
   "mimetype": "text/x-python",
   "name": "python",
   "nbconvert_exporter": "python",
   "pygments_lexer": "ipython3",
   "version": "3.6.1"
  }
 },
 "nbformat": 4,
 "nbformat_minor": 0
}
